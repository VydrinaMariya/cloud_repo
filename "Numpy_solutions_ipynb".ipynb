{
  "nbformat": 4,
  "nbformat_minor": 0,
  "metadata": {
    "colab": {
      "provenance": [],
      "authorship_tag": "ABX9TyMFMLmPOOvauHNSFcBlWQ1r",
      "include_colab_link": true
    },
    "kernelspec": {
      "name": "python3",
      "display_name": "Python 3"
    },
    "language_info": {
      "name": "python"
    }
  },
  "cells": [
    {
      "cell_type": "markdown",
      "metadata": {
        "id": "view-in-github",
        "colab_type": "text"
      },
      "source": [
        "<a href=\"https://colab.research.google.com/github/VydrinaMariya/cloud_repo/blob/main/%22Numpy_solutions_ipynb%22.ipynb\" target=\"_parent\"><img src=\"https://colab.research.google.com/assets/colab-badge.svg\" alt=\"Open In Colab\"/></a>"
      ]
    },
    {
      "cell_type": "code",
      "execution_count": null,
      "metadata": {
        "id": "kUntJgqxH_1a",
        "colab": {
          "base_uri": "https://localhost:8080/"
        },
        "outputId": "3a77a4cf-9bd5-4e78-d6e5-69ca5877ba94"
      },
      "outputs": [
        {
          "output_type": "stream",
          "name": "stdout",
          "text": [
            "<class 'list'>\n"
          ]
        }
      ],
      "source": [
        "#a. Импортируйте библиотеку NumPy\n",
        "import numpy as np\n",
        "my_list = [1,2,3]\n",
        "print(type(my_list))\n",
        "\n",
        "\n",
        "\n"
      ]
    },
    {
      "cell_type": "code",
      "source": [
        "#c.Создать массив из 10 нулей\n",
        "import numpy as np\n",
        "a = np.zeros(10)\n",
        "print(a)\n"
      ],
      "metadata": {
        "colab": {
          "base_uri": "https://localhost:8080/"
        },
        "id": "HwqtU7mRLvOz",
        "outputId": "bf81bfcc-5cd8-44e4-a7ce-f8e5c81ccfaf"
      },
      "execution_count": null,
      "outputs": [
        {
          "output_type": "stream",
          "name": "stdout",
          "text": [
            "[0. 0. 0. 0. 0. 0. 0. 0. 0. 0.]\n"
          ]
        }
      ]
    },
    {
      "cell_type": "code",
      "source": [
        "#c.Создать массив из 10 единиц\n",
        "import numpy as np\n",
        "a = np.ones(10)\n",
        "print(a)"
      ],
      "metadata": {
        "colab": {
          "base_uri": "https://localhost:8080/"
        },
        "id": "ns80APhKNFxx",
        "outputId": "d3788f1e-f23f-4a41-fe85-af2e4600a29a"
      },
      "execution_count": null,
      "outputs": [
        {
          "output_type": "stream",
          "name": "stdout",
          "text": [
            "[1. 1. 1. 1. 1. 1. 1. 1. 1. 1.]\n"
          ]
        }
      ]
    },
    {
      "cell_type": "code",
      "source": [
        "#d.Создать массив из 10 пятерок\n",
        "import numpy as np\n",
        "a = np.ones(10)*5\n",
        "print(a)\n",
        "\n"
      ],
      "metadata": {
        "colab": {
          "base_uri": "https://localhost:8080/"
        },
        "id": "JlptabvtO457",
        "outputId": "808adc2b-9467-4149-d882-af5d997e004f"
      },
      "execution_count": null,
      "outputs": [
        {
          "output_type": "stream",
          "name": "stdout",
          "text": [
            "[5. 5. 5. 5. 5. 5. 5. 5. 5. 5.]\n"
          ]
        }
      ]
    },
    {
      "cell_type": "code",
      "source": [
        "#e.Создать массив из целых чисел от 10 до 50\n",
        "arr=np.arange(10,51)\n",
        "print(arr)\n"
      ],
      "metadata": {
        "colab": {
          "base_uri": "https://localhost:8080/"
        },
        "id": "B0yiICwYPMv9",
        "outputId": "b0cac67f-a2d8-48fb-8b19-1ad28206db5e"
      },
      "execution_count": null,
      "outputs": [
        {
          "output_type": "stream",
          "name": "stdout",
          "text": [
            "[10 11 12 13 14 15 16 17 18 19 20 21 22 23 24 25 26 27 28 29 30 31 32 33\n",
            " 34 35 36 37 38 39 40 41 42 43 44 45 46 47 48 49 50]\n"
          ]
        }
      ]
    },
    {
      "cell_type": "code",
      "source": [
        "#f.Создать массив из четных чисел от 10 до 50\n",
        "import numpy as np\n",
        "array=np.arange(10,51,2)\n",
        "print(array) "
      ],
      "metadata": {
        "colab": {
          "base_uri": "https://localhost:8080/"
        },
        "id": "mo-_-9prQX9u",
        "outputId": "49413c3a-67e6-404a-8d65-3dc7a822ac54"
      },
      "execution_count": null,
      "outputs": [
        {
          "output_type": "stream",
          "name": "stdout",
          "text": [
            "[10 12 14 16 18 20 22 24 26 28 30 32 34 36 38 40 42 44 46 48 50]\n"
          ]
        }
      ]
    },
    {
      "cell_type": "code",
      "source": [
        "#g.Создать матрицу 3х3 с числами от 0 до 8\n",
        "arr=np.arange(0,9)\n",
        "arr=arr.reshape(3,3)\n",
        "print(arr)"
      ],
      "metadata": {
        "colab": {
          "base_uri": "https://localhost:8080/"
        },
        "id": "WiWZQschSQmj",
        "outputId": "27911dd1-695b-48fa-ed5d-0cdbdc72355b"
      },
      "execution_count": null,
      "outputs": [
        {
          "output_type": "stream",
          "name": "stdout",
          "text": [
            "[[0 1 2]\n",
            " [3 4 5]\n",
            " [6 7 8]]\n"
          ]
        }
      ]
    },
    {
      "cell_type": "code",
      "source": [
        "#h.Создать единичную матрицу 3x3\n",
        "import numpy as np\n",
        "arr=np.eye(3)\n",
        "print(arr)\n"
      ],
      "metadata": {
        "colab": {
          "base_uri": "https://localhost:8080/"
        },
        "id": "dyAdK-vNSemO",
        "outputId": "7eacebb2-032e-4ec2-9bbc-b9404c0c8936"
      },
      "execution_count": null,
      "outputs": [
        {
          "output_type": "stream",
          "name": "stdout",
          "text": [
            "[[1. 0. 0.]\n",
            " [0. 1. 0.]\n",
            " [0. 0. 1.]]\n"
          ]
        }
      ]
    },
    {
      "cell_type": "code",
      "source": [
        "#i.Используйте NumPy для генерации случайного числа от 0 до 1\n",
        "import random\n",
        "random.uniform(0, 1)"
      ],
      "metadata": {
        "colab": {
          "base_uri": "https://localhost:8080/"
        },
        "id": "J0AVoGNZUS8k",
        "outputId": "6d8e99b1-3232-4335-c0a5-4dd53e627a59"
      },
      "execution_count": null,
      "outputs": [
        {
          "output_type": "execute_result",
          "data": {
            "text/plain": [
              "0.3190774176021398"
            ]
          },
          "metadata": {},
          "execution_count": 25
        }
      ]
    },
    {
      "cell_type": "code",
      "source": [
        "#j.Используйте NumPy для генерации массива из 25 случайных чисел,взятых из стандартного нормального распределения\n",
        "import numpy as np\n",
        "rand_num = np.random.normal(0,1,25)\n",
        "print(rand_num)"
      ],
      "metadata": {
        "colab": {
          "base_uri": "https://localhost:8080/"
        },
        "id": "ki0dAhadU9DI",
        "outputId": "ea3e4ebe-a17d-4ee3-b826-da93465339e1"
      },
      "execution_count": null,
      "outputs": [
        {
          "output_type": "stream",
          "name": "stdout",
          "text": [
            "[ 0.07998486 -0.49965536  0.31080203 -1.67694814 -1.00682281  0.91354393\n",
            "  0.39148367  0.5626007   1.97870868  0.3363122  -1.18938066 -0.40347822\n",
            " -0.94291822  0.70729528  0.8995977  -1.67532907 -0.73178539  0.48740395\n",
            " -0.79934466 -3.22247058 -0.57412279 -1.09919463 -0.94278987  0.99753644\n",
            " -1.29830056]\n"
          ]
        }
      ]
    },
    {
      "cell_type": "code",
      "source": [
        "#k.Создайте следующую матрицу используя функции библиотеки NumPy:\n",
        "import numpy as np\n",
        "arr = np.arange(0.01, 1.01, 0.01)\n",
        "nums = arr\n",
        "nums2 = nums.reshape(10, 10)\n",
        "print(nums2)"
      ],
      "metadata": {
        "colab": {
          "base_uri": "https://localhost:8080/"
        },
        "id": "TtcY-LXWVaBX",
        "outputId": "dff5041e-57dc-4722-da98-3a13e2abc504"
      },
      "execution_count": null,
      "outputs": [
        {
          "output_type": "stream",
          "name": "stdout",
          "text": [
            "[[0.01 0.02 0.03 0.04 0.05 0.06 0.07 0.08 0.09 0.1 ]\n",
            " [0.11 0.12 0.13 0.14 0.15 0.16 0.17 0.18 0.19 0.2 ]\n",
            " [0.21 0.22 0.23 0.24 0.25 0.26 0.27 0.28 0.29 0.3 ]\n",
            " [0.31 0.32 0.33 0.34 0.35 0.36 0.37 0.38 0.39 0.4 ]\n",
            " [0.41 0.42 0.43 0.44 0.45 0.46 0.47 0.48 0.49 0.5 ]\n",
            " [0.51 0.52 0.53 0.54 0.55 0.56 0.57 0.58 0.59 0.6 ]\n",
            " [0.61 0.62 0.63 0.64 0.65 0.66 0.67 0.68 0.69 0.7 ]\n",
            " [0.71 0.72 0.73 0.74 0.75 0.76 0.77 0.78 0.79 0.8 ]\n",
            " [0.81 0.82 0.83 0.84 0.85 0.86 0.87 0.88 0.89 0.9 ]\n",
            " [0.91 0.92 0.93 0.94 0.95 0.96 0.97 0.98 0.99 1.  ]]\n"
          ]
        }
      ]
    },
    {
      "cell_type": "code",
      "source": [
        "#l Дана стартовая матрица (обязательно запустите код ниже в вашем решении!). \n",
        "#Эта матрица будет использоваться в последующих задачах\n",
        "# это наша стартовая матрица mat = np.arange(1,26).reshape(5,5)print(mat)\n",
        "import numpy as np\n",
        "mat = np.arange(1,26).reshape (5,5)\n",
        "print(mat)\n",
        "\n"
      ],
      "metadata": {
        "colab": {
          "base_uri": "https://localhost:8080/"
        },
        "id": "bZm_Niw0nH6l",
        "outputId": "0ef93f6f-d461-41cc-c471-2ff0ad0ac436"
      },
      "execution_count": null,
      "outputs": [
        {
          "output_type": "stream",
          "name": "stdout",
          "text": [
            "[[ 1  2  3  4  5]\n",
            " [ 6  7  8  9 10]\n",
            " [11 12 13 14 15]\n",
            " [16 17 18 19 20]\n",
            " [21 22 23 24 25]]\n"
          ]
        }
      ]
    },
    {
      "cell_type": "code",
      "source": [
        "# Необходимо написать код который вернет следующую матрицу из стартовой:\n",
        "import numpy as np\n",
        "mat = np.arange(1,26).reshape (5,5)\n",
        "print(mat)\n",
        "print('-----')\n",
        "print(mat[2:,1:5])"
      ],
      "metadata": {
        "id": "jtMoYFB6BMwC",
        "colab": {
          "base_uri": "https://localhost:8080/"
        },
        "outputId": "dcd3981b-b2ac-4fd6-ac63-5efbe8704314"
      },
      "execution_count": null,
      "outputs": [
        {
          "output_type": "stream",
          "name": "stdout",
          "text": [
            "[[ 1  2  3  4  5]\n",
            " [ 6  7  8  9 10]\n",
            " [11 12 13 14 15]\n",
            " [16 17 18 19 20]\n",
            " [21 22 23 24 25]]\n",
            "-----\n",
            "[[12 13 14 15]\n",
            " [17 18 19 20]\n",
            " [22 23 24 25]]\n"
          ]
        }
      ]
    },
    {
      "cell_type": "code",
      "source": [
        "#m.Написать код обращения к элементу который вернет значение  20 из стартовой матрицы задачи l.\n",
        "import numpy as np\n",
        "mat = np.arange(1,26,).reshape (5,5)\n",
        "print(mat)\n",
        "print('-----')\n",
        "print(mat[3][4])"
      ],
      "metadata": {
        "colab": {
          "base_uri": "https://localhost:8080/"
        },
        "id": "jQIWEuKiTHIv",
        "outputId": "c787a181-174d-49aa-8150-a17f00b5b612"
      },
      "execution_count": null,
      "outputs": [
        {
          "output_type": "stream",
          "name": "stdout",
          "text": [
            "[[ 1  2  3  4  5]\n",
            " [ 6  7  8  9 10]\n",
            " [11 12 13 14 15]\n",
            " [16 17 18 19 20]\n",
            " [21 22 23 24 25]]\n",
            "-----\n",
            "20\n"
          ]
        }
      ]
    },
    {
      "cell_type": "code",
      "source": [
        "#n.Написать код к стартовой матрице задачи l , который воспроизводитвывод, показанный ниже\n",
        "import numpy as np\n",
        "mat = np.arange(1,26).reshape (5,5)\n",
        "print(mat)\n",
        "print('-----')\n",
        "print(mat[0:4,1:2])"
      ],
      "metadata": {
        "colab": {
          "base_uri": "https://localhost:8080/"
        },
        "id": "2o8bL9KGTWT-",
        "outputId": "8c8da236-b5ec-4616-eb60-9f3bdad4e873"
      },
      "execution_count": null,
      "outputs": [
        {
          "output_type": "stream",
          "name": "stdout",
          "text": [
            "[[ 1  2  3  4  5]\n",
            " [ 6  7  8  9 10]\n",
            " [11 12 13 14 15]\n",
            " [16 17 18 19 20]\n",
            " [21 22 23 24 25]]\n",
            "-----\n",
            "[[ 2]\n",
            " [ 7]\n",
            " [12]\n",
            " [17]]\n"
          ]
        }
      ]
    },
    {
      "cell_type": "code",
      "source": [
        "# o. Написать код к стартовой матрице задачи l , который воспроизводитвывод, показанный ниже\n",
        "import numpy as np\n",
        "mat = np.arange(1,26,).reshape (5,5)\n",
        "print(mat)\n",
        "print('-----')\n",
        "print(mat[2:][2:])"
      ],
      "metadata": {
        "colab": {
          "base_uri": "https://localhost:8080/"
        },
        "id": "o6MU8iMlWV4P",
        "outputId": "4187dd46-d4d0-40ef-d36c-6a3bd229fc5a"
      },
      "execution_count": null,
      "outputs": [
        {
          "output_type": "stream",
          "name": "stdout",
          "text": [
            "[[ 1  2  3  4  5]\n",
            " [ 6  7  8  9 10]\n",
            " [11 12 13 14 15]\n",
            " [16 17 18 19 20]\n",
            " [21 22 23 24 25]]\n",
            "-----\n",
            "[[21 22 23 24 25]]\n"
          ]
        }
      ]
    },
    {
      "cell_type": "code",
      "source": [
        "# p.Написать код к стартовой матрице задачи l , который воспроизводитвывод, показанный ниже\n",
        "import numpy as np\n",
        "mat = np.arange(1,26,).reshape (5,5)\n",
        "print(mat)\n",
        "print('-----')\n",
        "print(mat[1:][2:])"
      ],
      "metadata": {
        "colab": {
          "base_uri": "https://localhost:8080/"
        },
        "id": "1IXD92GSXhdU",
        "outputId": "82abb639-a526-4eca-fc20-d8f9340211e2"
      },
      "execution_count": null,
      "outputs": [
        {
          "output_type": "stream",
          "name": "stdout",
          "text": [
            "[[ 1  2  3  4  5]\n",
            " [ 6  7  8  9 10]\n",
            " [11 12 13 14 15]\n",
            " [16 17 18 19 20]\n",
            " [21 22 23 24 25]]\n",
            "-----\n",
            "[[16 17 18 19 20]\n",
            " [21 22 23 24 25]]\n"
          ]
        }
      ]
    },
    {
      "cell_type": "code",
      "source": [
        "# q.Получить сумму всех значений в стартовой матрице mat\n",
        "import numpy as np\n",
        "mat=np.arange(1,26)\n",
        "print(mat.sum())"
      ],
      "metadata": {
        "colab": {
          "base_uri": "https://localhost:8080/"
        },
        "id": "OannfJrVX0Y4",
        "outputId": "b89b6ba4-f490-4a61-8501-8fc3563f7b14"
      },
      "execution_count": null,
      "outputs": [
        {
          "output_type": "stream",
          "name": "stdout",
          "text": [
            "325\n"
          ]
        }
      ]
    },
    {
      "cell_type": "code",
      "source": [
        "#r.Получить стандартное отклонение в стартовой матрице mat\n",
        "import numpy as np\n",
        "mat=np.arange(1,26)\n",
        "print(mat.std())\n"
      ],
      "metadata": {
        "colab": {
          "base_uri": "https://localhost:8080/"
        },
        "id": "GrT7on3jYnm3",
        "outputId": "abac00bc-3e8f-44c6-b4d7-7bf0a8a4a230"
      },
      "execution_count": null,
      "outputs": [
        {
          "output_type": "stream",
          "name": "stdout",
          "text": [
            "7.211102550927978\n"
          ]
        }
      ]
    },
    {
      "cell_type": "code",
      "source": [
        "#s.Получить сумму значений в колонках в стартовой матрице mat\n",
        "import numpy as np\n",
        "mat=np.arange(1,26).reshape (5,5)\n",
        "print(mat)\n",
        "print('------')\n",
        "print(mat.sum(axis=0))\n"
      ],
      "metadata": {
        "colab": {
          "base_uri": "https://localhost:8080/"
        },
        "id": "sgp0RCbxZ1-0",
        "outputId": "c4d3a707-492d-494a-f4ee-298f67938af4"
      },
      "execution_count": null,
      "outputs": [
        {
          "output_type": "stream",
          "name": "stdout",
          "text": [
            "[[ 1  2  3  4  5]\n",
            " [ 6  7  8  9 10]\n",
            " [11 12 13 14 15]\n",
            " [16 17 18 19 20]\n",
            " [21 22 23 24 25]]\n",
            "------\n",
            "[55 60 65 70 75]\n"
          ]
        }
      ]
    }
  ]
}